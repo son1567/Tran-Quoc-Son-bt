{
 "cells": [
  {
   "cell_type": "code",
   "execution_count": 1,
   "metadata": {},
   "outputs": [
    {
     "name": "stdout",
     "output_type": "stream",
     "text": [
      "True\n",
      "False\n",
      "False\n",
      "False\n"
     ]
    }
   ],
   "source": [
    "import math \n",
    "xA = 5\n",
    "yA = 6\n",
    "xB = 4\n",
    "yB = 8\n",
    "xC = 9\n",
    "yC = 10\n",
    "a = math.sqrt((((xB-xA)*(xB-xA))+((yB-yA)*(yB-yA))))\n",
    "b = math.sqrt((((xC-xB)*(xC-xB))+((yC-yB)*(yC-yB))))\n",
    "c = math.sqrt((((xC-xA)*(xC-xA))+((yC-yA)*(yC-yA))))\n",
    "kt = a + b !=c \n",
    "print(kt)\n",
    "if kt == True:\n",
    "\ttgc = a == b or a == c or b == c;\n",
    "\tprint(tgc);\n",
    "\ttgd = a == b == c; \n",
    "\tprint(tgd);\n",
    "\ttgv\t= a*a == b*b + c or b*b == a*a + c*c or c*c == b*b + a*a;\n",
    "\tprint(tgv)\n"
   ]
  },
  {
   "cell_type": "code",
   "execution_count": null,
   "metadata": {},
   "outputs": [],
   "source": []
  }
 ],
 "metadata": {
  "kernelspec": {
   "display_name": "Python 3",
   "language": "python",
   "name": "python3"
  },
  "language_info": {
   "codemirror_mode": {
    "name": "ipython",
    "version": 3
   },
   "file_extension": ".py",
   "mimetype": "text/x-python",
   "name": "python",
   "nbconvert_exporter": "python",
   "pygments_lexer": "ipython3",
   "version": "3.7.1"
  }
 },
 "nbformat": 4,
 "nbformat_minor": 2
}
