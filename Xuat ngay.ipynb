{
 "cells": [
  {
   "cell_type": "code",
   "execution_count": 2,
   "metadata": {},
   "outputs": [
    {
     "name": "stdout",
     "output_type": "stream",
     "text": [
      "Nhap N=5\n",
      "Friday\n"
     ]
    }
   ],
   "source": [
    "N=int(input('Nhap N='))\n",
    "if N==1:\n",
    "    print ('Monday')\n",
    "elif N==2:\n",
    "    print ('Tuesday')\n",
    "elif N==3:\n",
    "    print ('Wednesday')\n",
    "elif N==4:\n",
    "    print ('Thursday')\n",
    "elif N==5:\n",
    "    print ('Friday')\n",
    "elif N==6:\n",
    "    print ('Saturday')\n",
    "elif N==7:\n",
    "    print ('Sunday') \n",
    "else:\n",
    "    print ('error, out of range')"
   ]
  },
  {
   "cell_type": "code",
   "execution_count": null,
   "metadata": {},
   "outputs": [],
   "source": []
  },
  {
   "cell_type": "code",
   "execution_count": null,
   "metadata": {},
   "outputs": [],
   "source": []
  }
 ],
 "metadata": {
  "kernelspec": {
   "display_name": "Python 3",
   "language": "python",
   "name": "python3"
  },
  "language_info": {
   "codemirror_mode": {
    "name": "ipython",
    "version": 3
   },
   "file_extension": ".py",
   "mimetype": "text/x-python",
   "name": "python",
   "nbconvert_exporter": "python",
   "pygments_lexer": "ipython3",
   "version": "3.7.1"
  }
 },
 "nbformat": 4,
 "nbformat_minor": 2
}
