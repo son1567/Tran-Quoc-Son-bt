{
 "cells": [
  {
   "cell_type": "code",
   "execution_count": 1,
   "metadata": {},
   "outputs": [],
   "source": [
    "import pandas as pd\n",
    "import numpy as np\n",
    "import matplotlib.pyplot as plt\n",
    "import seaborn as sns\n",
    "from sklearn.preprocessing import StandardScaler"
   ]
  },
  {
   "cell_type": "code",
   "execution_count": 3,
   "metadata": {},
   "outputs": [],
   "source": [
    "# tạo các cột theo các phần phối khác nhau\n",
    "df = pd.DataFrame({ \n",
    "    'beta': np.random.beta(5, 1, 1000) * 60,        \n",
    "    'exponential': np.random.exponential(10, 1000), \n",
    "    'normal_p': np.random.normal(10, 2, 1000),      \n",
    "    'normal_l': np.random.normal(10, 10, 1000),    \n",
    "})"
   ]
  },
  {
   "cell_type": "code",
   "execution_count": 4,
   "metadata": {},
   "outputs": [
    {
     "data": {
      "text/html": [
       "<div>\n",
       "<style scoped>\n",
       "    .dataframe tbody tr th:only-of-type {\n",
       "        vertical-align: middle;\n",
       "    }\n",
       "\n",
       "    .dataframe tbody tr th {\n",
       "        vertical-align: top;\n",
       "    }\n",
       "\n",
       "    .dataframe thead th {\n",
       "        text-align: right;\n",
       "    }\n",
       "</style>\n",
       "<table border=\"1\" class=\"dataframe\">\n",
       "  <thead>\n",
       "    <tr style=\"text-align: right;\">\n",
       "      <th></th>\n",
       "      <th>beta</th>\n",
       "      <th>exponential</th>\n",
       "      <th>normal_p</th>\n",
       "      <th>normal_l</th>\n",
       "      <th>bimodal</th>\n",
       "    </tr>\n",
       "  </thead>\n",
       "  <tbody>\n",
       "    <tr>\n",
       "      <th>0</th>\n",
       "      <td>58.101901</td>\n",
       "      <td>1.376047</td>\n",
       "      <td>9.586411</td>\n",
       "      <td>7.499599</td>\n",
       "      <td>21.691409</td>\n",
       "    </tr>\n",
       "    <tr>\n",
       "      <th>1</th>\n",
       "      <td>27.948181</td>\n",
       "      <td>2.904345</td>\n",
       "      <td>11.152051</td>\n",
       "      <td>15.087785</td>\n",
       "      <td>19.387303</td>\n",
       "    </tr>\n",
       "    <tr>\n",
       "      <th>2</th>\n",
       "      <td>52.102719</td>\n",
       "      <td>4.018462</td>\n",
       "      <td>7.714326</td>\n",
       "      <td>10.569900</td>\n",
       "      <td>20.553567</td>\n",
       "    </tr>\n",
       "    <tr>\n",
       "      <th>3</th>\n",
       "      <td>58.937418</td>\n",
       "      <td>1.068477</td>\n",
       "      <td>7.020839</td>\n",
       "      <td>10.404505</td>\n",
       "      <td>15.949972</td>\n",
       "    </tr>\n",
       "    <tr>\n",
       "      <th>4</th>\n",
       "      <td>52.610389</td>\n",
       "      <td>12.703533</td>\n",
       "      <td>8.604671</td>\n",
       "      <td>32.278511</td>\n",
       "      <td>23.048035</td>\n",
       "    </tr>\n",
       "  </tbody>\n",
       "</table>\n",
       "</div>"
      ],
      "text/plain": [
       "        beta  exponential   normal_p   normal_l    bimodal\n",
       "0  58.101901     1.376047   9.586411   7.499599  21.691409\n",
       "1  27.948181     2.904345  11.152051  15.087785  19.387303\n",
       "2  52.102719     4.018462   7.714326  10.569900  20.553567\n",
       "3  58.937418     1.068477   7.020839  10.404505  15.949972\n",
       "4  52.610389    12.703533   8.604671  32.278511  23.048035"
      ]
     },
     "execution_count": 4,
     "metadata": {},
     "output_type": "execute_result"
    }
   ],
   "source": [
    "# thêm dữ liệu được tạo theo phân phối nhị thức\n",
    "first_half = np.random.normal(20, 3, 500) \n",
    "second_half = np.random.normal(-20, 3, 500) \n",
    "bimodal = np.concatenate([first_half, second_half])\n",
    "\n",
    "df['bimodal'] = bimodal\n",
    "df.head()"
   ]
  },
  {
   "cell_type": "code",
   "execution_count": 14,
   "metadata": {},
   "outputs": [
    {
     "name": "stderr",
     "output_type": "stream",
     "text": [
      "D:\\a\\lib\\site-packages\\seaborn\\distributions.py:679: UserWarning: Passing a 2D dataset for a bivariate plot is deprecated in favor of kdeplot(x, y), and it will cause an error in future versions. Please update your code.\n",
      "  warnings.warn(warn_msg, UserWarning)\n"
     ]
    },
    {
     "data": {
      "text/plain": [
       "<matplotlib.axes._subplots.AxesSubplot at 0x125d3ea46d8>"
      ]
     },
     "execution_count": 14,
     "metadata": {},
     "output_type": "execute_result"
    },
    {
     "data": {
      "image/png": "[encoded data removed]",
      "text/plain": [
       "<Figure size 432x288 with 1 Axes>"
      ]
     },
     "metadata": {
      "needs_background": "light"
     },
     "output_type": "display_data"
    }
   ],
   "source": [
    "sns.kdeplot(data=df)"
   ]
  },
  {
   "cell_type": "code",
   "execution_count": 6,
   "metadata": {},
   "outputs": [
    {
     "data": {
      "text/html": [
       "<div>\n",
       "<style scoped>\n",
       "    .dataframe tbody tr th:only-of-type {\n",
       "        vertical-align: middle;\n",
       "    }\n",
       "\n",
       "    .dataframe tbody tr th {\n",
       "        vertical-align: top;\n",
       "    }\n",
       "\n",
       "    .dataframe thead th {\n",
       "        text-align: right;\n",
       "    }\n",
       "</style>\n",
       "<table border=\"1\" class=\"dataframe\">\n",
       "  <thead>\n",
       "    <tr style=\"text-align: right;\">\n",
       "      <th></th>\n",
       "      <th>beta</th>\n",
       "      <th>exponential</th>\n",
       "      <th>normal_p</th>\n",
       "      <th>normal_l</th>\n",
       "      <th>bimodal</th>\n",
       "    </tr>\n",
       "  </thead>\n",
       "  <tbody>\n",
       "    <tr>\n",
       "      <th>count</th>\n",
       "      <td>1000.000000</td>\n",
       "      <td>1000.000000</td>\n",
       "      <td>1000.000000</td>\n",
       "      <td>1000.000000</td>\n",
       "      <td>1000.000000</td>\n",
       "    </tr>\n",
       "    <tr>\n",
       "      <th>mean</th>\n",
       "      <td>50.109791</td>\n",
       "      <td>10.310607</td>\n",
       "      <td>10.186446</td>\n",
       "      <td>9.800547</td>\n",
       "      <td>0.134886</td>\n",
       "    </tr>\n",
       "    <tr>\n",
       "      <th>std</th>\n",
       "      <td>8.153600</td>\n",
       "      <td>10.217997</td>\n",
       "      <td>1.925005</td>\n",
       "      <td>10.030255</td>\n",
       "      <td>20.276572</td>\n",
       "    </tr>\n",
       "    <tr>\n",
       "      <th>min</th>\n",
       "      <td>18.857577</td>\n",
       "      <td>0.017561</td>\n",
       "      <td>4.127314</td>\n",
       "      <td>-23.920307</td>\n",
       "      <td>-29.150976</td>\n",
       "    </tr>\n",
       "    <tr>\n",
       "      <th>25%</th>\n",
       "      <td>45.814753</td>\n",
       "      <td>3.041453</td>\n",
       "      <td>8.948169</td>\n",
       "      <td>3.419154</td>\n",
       "      <td>-20.044509</td>\n",
       "    </tr>\n",
       "    <tr>\n",
       "      <th>50%</th>\n",
       "      <td>52.324758</td>\n",
       "      <td>7.214985</td>\n",
       "      <td>10.131407</td>\n",
       "      <td>10.141006</td>\n",
       "      <td>0.516804</td>\n",
       "    </tr>\n",
       "    <tr>\n",
       "      <th>75%</th>\n",
       "      <td>56.578621</td>\n",
       "      <td>13.971273</td>\n",
       "      <td>11.421581</td>\n",
       "      <td>16.562348</td>\n",
       "      <td>20.027003</td>\n",
       "    </tr>\n",
       "    <tr>\n",
       "      <th>max</th>\n",
       "      <td>59.994989</td>\n",
       "      <td>69.329784</td>\n",
       "      <td>16.147228</td>\n",
       "      <td>41.985683</td>\n",
       "      <td>29.829037</td>\n",
       "    </tr>\n",
       "  </tbody>\n",
       "</table>\n",
       "</div>"
      ],
      "text/plain": [
       "              beta  exponential     normal_p     normal_l      bimodal\n",
       "count  1000.000000  1000.000000  1000.000000  1000.000000  1000.000000\n",
       "mean     50.109791    10.310607    10.186446     9.800547     0.134886\n",
       "std       8.153600    10.217997     1.925005    10.030255    20.276572\n",
       "min      18.857577     0.017561     4.127314   -23.920307   -29.150976\n",
       "25%      45.814753     3.041453     8.948169     3.419154   -20.044509\n",
       "50%      52.324758     7.214985    10.131407    10.141006     0.516804\n",
       "75%      56.578621    13.971273    11.421581    16.562348    20.027003\n",
       "max      59.994989    69.329784    16.147228    41.985683    29.829037"
      ]
     },
     "execution_count": 6,
     "metadata": {},
     "output_type": "execute_result"
    }
   ],
   "source": [
    "df.describe()"
   ]
  },
  {
   "cell_type": "code",
   "execution_count": 7,
   "metadata": {},
   "outputs": [
    {
     "name": "stderr",
     "output_type": "stream",
     "text": [
      "D:\\a\\lib\\site-packages\\seaborn\\distributions.py:679: UserWarning: Passing a 2D dataset for a bivariate plot is deprecated in favor of kdeplot(x, y), and it will cause an error in future versions. Please update your code.\n",
      "  warnings.warn(warn_msg, UserWarning)\n"
     ]
    },
    {
     "data": {
      "text/plain": [
       "<matplotlib.axes._subplots.AxesSubplot at 0x125d2d001d0>"
      ]
     },
     "execution_count": 7,
     "metadata": {},
     "output_type": "execute_result"
    },
    {
     "data": {
      "image/png": "[encoded data removed]",
      "text/plain": [
       "<Figure size 432x288 with 1 Axes>"
      ]
     },
     "metadata": {
      "needs_background": "light"
     },
     "output_type": "display_data"
    }
   ],
   "source": [
    "normal_big = np.random.normal(1000000, 10000, (1000,1))  # normal distribution of large values\n",
    "df['normal_big'] = normal_big\n",
    "sns.kdeplot(data=df)"
   ]
  },
  {
   "cell_type": "code",
   "execution_count": 15,
   "metadata": {},
   "outputs": [
    {
     "data": {
      "text/plain": [
       "<matplotlib.axes._subplots.AxesSubplot at 0x125d544c390>"
      ]
     },
     "execution_count": 15,
     "metadata": {},
     "output_type": "execute_result"
    },
    {
     "data": {
      "image/png": "[encoded data removed]",
      "text/plain": [
       "<Figure size 432x288 with 1 Axes>"
      ]
     },
     "metadata": {
      "needs_background": "light"
     },
     "output_type": "display_data"
    }
   ],
   "source": [
    "# trực quan hóa bằng biểu đồ box plot\n",
    "df.boxplot()"
   ]
  },
  {
   "cell_type": "code",
   "execution_count": 17,
   "metadata": {},
   "outputs": [],
   "source": [
    "# Khai báo đối tượng StandardScaler\n",
    "s_scaler = StandardScaler()\n"
   ]
  },
  {
   "cell_type": "code",
   "execution_count": 19,
   "metadata": {},
   "outputs": [
    {
     "data": {
      "text/html": [
       "<div>\n",
       "<style scoped>\n",
       "    .dataframe tbody tr th:only-of-type {\n",
       "        vertical-align: middle;\n",
       "    }\n",
       "\n",
       "    .dataframe tbody tr th {\n",
       "        vertical-align: top;\n",
       "    }\n",
       "\n",
       "    .dataframe thead th {\n",
       "        text-align: right;\n",
       "    }\n",
       "</style>\n",
       "<table border=\"1\" class=\"dataframe\">\n",
       "  <thead>\n",
       "    <tr style=\"text-align: right;\">\n",
       "      <th></th>\n",
       "      <th>beta</th>\n",
       "      <th>exponential</th>\n",
       "      <th>normal_p</th>\n",
       "      <th>normal_l</th>\n",
       "      <th>bimodal</th>\n",
       "      <th>normal_big</th>\n",
       "    </tr>\n",
       "  </thead>\n",
       "  <tbody>\n",
       "    <tr>\n",
       "      <th>0</th>\n",
       "      <td>0.980685</td>\n",
       "      <td>-0.874832</td>\n",
       "      <td>-0.311861</td>\n",
       "      <td>-0.229516</td>\n",
       "      <td>1.063657</td>\n",
       "      <td>2.229160</td>\n",
       "    </tr>\n",
       "    <tr>\n",
       "      <th>1</th>\n",
       "      <td>-2.719376</td>\n",
       "      <td>-0.725188</td>\n",
       "      <td>0.501863</td>\n",
       "      <td>0.527393</td>\n",
       "      <td>0.949966</td>\n",
       "      <td>-1.210281</td>\n",
       "    </tr>\n",
       "    <tr>\n",
       "      <th>2</th>\n",
       "      <td>0.244545</td>\n",
       "      <td>-0.616099</td>\n",
       "      <td>-1.284858</td>\n",
       "      <td>0.076742</td>\n",
       "      <td>1.007512</td>\n",
       "      <td>-1.826406</td>\n",
       "    </tr>\n",
       "    <tr>\n",
       "      <th>3</th>\n",
       "      <td>1.083208</td>\n",
       "      <td>-0.904948</td>\n",
       "      <td>-1.645290</td>\n",
       "      <td>0.060244</td>\n",
       "      <td>0.780359</td>\n",
       "      <td>0.644201</td>\n",
       "    </tr>\n",
       "    <tr>\n",
       "      <th>4</th>\n",
       "      <td>0.306840</td>\n",
       "      <td>0.234305</td>\n",
       "      <td>-0.822111</td>\n",
       "      <td>2.242137</td>\n",
       "      <td>1.130596</td>\n",
       "      <td>2.569177</td>\n",
       "    </tr>\n",
       "  </tbody>\n",
       "</table>\n",
       "</div>"
      ],
      "text/plain": [
       "       beta  exponential  normal_p  normal_l   bimodal  normal_big\n",
       "0  0.980685    -0.874832 -0.311861 -0.229516  1.063657    2.229160\n",
       "1 -2.719376    -0.725188  0.501863  0.527393  0.949966   -1.210281\n",
       "2  0.244545    -0.616099 -1.284858  0.076742  1.007512   -1.826406\n",
       "3  1.083208    -0.904948 -1.645290  0.060244  0.780359    0.644201\n",
       "4  0.306840     0.234305 -0.822111  2.242137  1.130596    2.569177"
      ]
     },
     "execution_count": 19,
     "metadata": {},
     "output_type": "execute_result"
    }
   ],
   "source": [
    "# Chuẩn hóa dữ liệu trong df với StandardScaler\n",
    "df_s = s_scaler.fit_transform(df)\n",
    "\n",
    "# lấy danh sáchc cột\n",
    "col_names = list(df.columns)\n",
    "\n",
    "# chuyển về DataFrame, gán các cột của df cho dữ liệu đã được chuẩn hóa\n",
    "df_s = pd.DataFrame(df_s, columns=col_names)\n",
    "df_s.head()"
   ]
  },
  {
   "cell_type": "code",
   "execution_count": 20,
   "metadata": {},
   "outputs": [
    {
     "name": "stderr",
     "output_type": "stream",
     "text": [
      "D:\\a\\lib\\site-packages\\seaborn\\distributions.py:679: UserWarning: Passing a 2D dataset for a bivariate plot is deprecated in favor of kdeplot(x, y), and it will cause an error in future versions. Please update your code.\n",
      "  warnings.warn(warn_msg, UserWarning)\n",
      "D:\\a\\lib\\site-packages\\scipy\\stats\\stats.py:1713: FutureWarning: Using a non-tuple sequence for multidimensional indexing is deprecated; use `arr[tuple(seq)]` instead of `arr[seq]`. In the future this will be interpreted as an array index, `arr[np.array(seq)]`, which will result either in an error or a different result.\n",
      "  return np.add.reduce(sorted[indexer] * weights, axis=axis) / sumval\n"
     ]
    },
    {
     "data": {
      "text/plain": [
       "<matplotlib.axes._subplots.AxesSubplot at 0x125d54fd5f8>"
      ]
     },
     "execution_count": 20,
     "metadata": {},
     "output_type": "execute_result"
    },
    {
     "data": {
      "image/png": "[encoded data removed]",
      "text/plain": [
       "<Figure size 432x288 with 1 Axes>"
      ]
     },
     "metadata": {
      "needs_background": "light"
     },
     "output_type": "display_data"
    }
   ],
   "source": [
    "# biểu diễn dữ liệu đã được chuẩn hóa\n",
    "sns.kdeplot(data=df_s)"
   ]
  },
  {
   "cell_type": "code",
   "execution_count": 21,
   "metadata": {},
   "outputs": [
    {
     "data": {
      "text/html": [
       "<div>\n",
       "<style scoped>\n",
       "    .dataframe tbody tr th:only-of-type {\n",
       "        vertical-align: middle;\n",
       "    }\n",
       "\n",
       "    .dataframe tbody tr th {\n",
       "        vertical-align: top;\n",
       "    }\n",
       "\n",
       "    .dataframe thead th {\n",
       "        text-align: right;\n",
       "    }\n",
       "</style>\n",
       "<table border=\"1\" class=\"dataframe\">\n",
       "  <thead>\n",
       "    <tr style=\"text-align: right;\">\n",
       "      <th></th>\n",
       "      <th>beta</th>\n",
       "      <th>exponential</th>\n",
       "      <th>normal_p</th>\n",
       "      <th>normal_l</th>\n",
       "      <th>bimodal</th>\n",
       "      <th>normal_big</th>\n",
       "    </tr>\n",
       "  </thead>\n",
       "  <tbody>\n",
       "    <tr>\n",
       "      <th>count</th>\n",
       "      <td>1.000000e+03</td>\n",
       "      <td>1.000000e+03</td>\n",
       "      <td>1.000000e+03</td>\n",
       "      <td>1.000000e+03</td>\n",
       "      <td>1.000000e+03</td>\n",
       "      <td>1.000000e+03</td>\n",
       "    </tr>\n",
       "    <tr>\n",
       "      <th>mean</th>\n",
       "      <td>1.124212e-15</td>\n",
       "      <td>-3.463896e-17</td>\n",
       "      <td>-1.915352e-16</td>\n",
       "      <td>-2.481348e-17</td>\n",
       "      <td>-4.685141e-17</td>\n",
       "      <td>-3.925610e-16</td>\n",
       "    </tr>\n",
       "    <tr>\n",
       "      <th>std</th>\n",
       "      <td>1.000500e+00</td>\n",
       "      <td>1.000500e+00</td>\n",
       "      <td>1.000500e+00</td>\n",
       "      <td>1.000500e+00</td>\n",
       "      <td>1.000500e+00</td>\n",
       "      <td>1.000500e+00</td>\n",
       "    </tr>\n",
       "    <tr>\n",
       "      <th>min</th>\n",
       "      <td>-3.834853e+00</td>\n",
       "      <td>-1.007849e+00</td>\n",
       "      <td>-3.149169e+00</td>\n",
       "      <td>-3.363596e+00</td>\n",
       "      <td>-1.445043e+00</td>\n",
       "      <td>-4.562894e+00</td>\n",
       "    </tr>\n",
       "    <tr>\n",
       "      <th>25%</th>\n",
       "      <td>-5.270295e-01</td>\n",
       "      <td>-7.117629e-01</td>\n",
       "      <td>-6.435809e-01</td>\n",
       "      <td>-6.365328e-01</td>\n",
       "      <td>-9.957054e-01</td>\n",
       "      <td>-6.407661e-01</td>\n",
       "    </tr>\n",
       "    <tr>\n",
       "      <th>50%</th>\n",
       "      <td>2.717910e-01</td>\n",
       "      <td>-3.031095e-01</td>\n",
       "      <td>-2.860588e-02</td>\n",
       "      <td>3.396019e-02</td>\n",
       "      <td>1.884487e-02</td>\n",
       "      <td>-3.859286e-02</td>\n",
       "    </tr>\n",
       "    <tr>\n",
       "      <th>75%</th>\n",
       "      <td>7.937680e-01</td>\n",
       "      <td>3.584360e-01</td>\n",
       "      <td>6.419481e-01</td>\n",
       "      <td>6.744778e-01</td>\n",
       "      <td>9.815304e-01</td>\n",
       "      <td>6.522611e-01</td>\n",
       "    </tr>\n",
       "    <tr>\n",
       "      <th>max</th>\n",
       "      <td>1.212979e+00</td>\n",
       "      <td>5.778893e+00</td>\n",
       "      <td>3.098052e+00</td>\n",
       "      <td>3.210411e+00</td>\n",
       "      <td>1.465189e+00</td>\n",
       "      <td>2.776853e+00</td>\n",
       "    </tr>\n",
       "  </tbody>\n",
       "</table>\n",
       "</div>"
      ],
      "text/plain": [
       "               beta   exponential      normal_p      normal_l       bimodal  \\\n",
       "count  1.000000e+03  1.000000e+03  1.000000e+03  1.000000e+03  1.000000e+03   \n",
       "mean   1.124212e-15 -3.463896e-17 -1.915352e-16 -2.481348e-17 -4.685141e-17   \n",
       "std    1.000500e+00  1.000500e+00  1.000500e+00  1.000500e+00  1.000500e+00   \n",
       "min   -3.834853e+00 -1.007849e+00 -3.149169e+00 -3.363596e+00 -1.445043e+00   \n",
       "25%   -5.270295e-01 -7.117629e-01 -6.435809e-01 -6.365328e-01 -9.957054e-01   \n",
       "50%    2.717910e-01 -3.031095e-01 -2.860588e-02  3.396019e-02  1.884487e-02   \n",
       "75%    7.937680e-01  3.584360e-01  6.419481e-01  6.744778e-01  9.815304e-01   \n",
       "max    1.212979e+00  5.778893e+00  3.098052e+00  3.210411e+00  1.465189e+00   \n",
       "\n",
       "         normal_big  \n",
       "count  1.000000e+03  \n",
       "mean  -3.925610e-16  \n",
       "std    1.000500e+00  \n",
       "min   -4.562894e+00  \n",
       "25%   -6.407661e-01  \n",
       "50%   -3.859286e-02  \n",
       "75%    6.522611e-01  \n",
       "max    2.776853e+00  "
      ]
     },
     "execution_count": 21,
     "metadata": {},
     "output_type": "execute_result"
    }
   ],
   "source": [
    "# thống kê về dữ liệu được sinh ra\n",
    "df_s.describe()"
   ]
  },
  {
   "cell_type": "code",
   "execution_count": 22,
   "metadata": {},
   "outputs": [
    {
     "data": {
      "text/plain": [
       "<matplotlib.axes._subplots.AxesSubplot at 0x125d5590940>"
      ]
     },
     "execution_count": 22,
     "metadata": {},
     "output_type": "execute_result"
    },
    {
     "data": {
      "image/png": "[encoded data removed]",
      "text/plain": [
       "<Figure size 432x288 with 1 Axes>"
      ]
     },
     "metadata": {
      "needs_background": "light"
     },
     "output_type": "display_data"
    }
   ],
   "source": [
    "# trực quan hóa bằng biểu đồ box plot\n",
    "df_s.boxplot()"
   ]
  },
  {
   "cell_type": "code",
   "execution_count": null,
   "metadata": {},
   "outputs": [],
   "source": []
  }
 ],
 "metadata": {
  "kernelspec": {
   "display_name": "Python 3",
   "language": "python",
   "name": "python3"
  },
  "language_info": {
   "codemirror_mode": {
    "name": "ipython",
    "version": 3
   },
   "file_extension": ".py",
   "mimetype": "text/x-python",
   "name": "python",
   "nbconvert_exporter": "python",
   "pygments_lexer": "ipython3",
   "version": "3.7.1"
  }
 },
 "nbformat": 4,
 "nbformat_minor": 2
}
