{
 "cells": [
  {
   "cell_type": "code",
   "execution_count": 2,
   "metadata": {},
   "outputs": [
    {
     "name": "stdout",
     "output_type": "stream",
     "text": [
      "Nhap vao so can nang: 35\n",
      "Beo phi cap do II\n"
     ]
    }
   ],
   "source": [
    "N=int(input('Nhap vao so can nang: '))\n",
    "if N<16:\n",
    "    print('Gay cap do III')\n",
    "elif 17<=N<16:\n",
    "    print ('Gay cap do II')\n",
    "elif 17<=N<18.5:\n",
    "    print ('Gay cap do I')\n",
    "elif 18.5<=N<25:\n",
    "    print ('Binh thuong')\n",
    "elif 25<=N<30:\n",
    "    print ('Thua can')\n",
    "elif 30<=N<35:\n",
    "    print ('Beo phi cap do I')      \n",
    "elif 35<=N<40:\n",
    "    print ('Beo phi cap do II')  \n",
    "else:\n",
    "    print ('Beo phi cap do III')"
   ]
  },
  {
   "cell_type": "code",
   "execution_count": null,
   "metadata": {},
   "outputs": [],
   "source": []
  }
 ],
 "metadata": {
  "kernelspec": {
   "display_name": "Python 3",
   "language": "python",
   "name": "python3"
  },
  "language_info": {
   "codemirror_mode": {
    "name": "ipython",
    "version": 3
   },
   "file_extension": ".py",
   "mimetype": "text/x-python",
   "name": "python",
   "nbconvert_exporter": "python",
   "pygments_lexer": "ipython3",
   "version": "3.7.1"
  }
 },
 "nbformat": 4,
 "nbformat_minor": 2
}
