{
 "cells": [
  {
   "cell_type": "code",
   "execution_count": 14,
   "metadata": {},
   "outputs": [
    {
     "name": "stdout",
     "output_type": "stream",
     "text": [
      "Nhap N=32654dc4ds56c4\n",
      "So ky tu trong chuoi la: 14\n"
     ]
    }
   ],
   "source": [
    "N=input('Nhap N=')\n",
    "def demkytu(a):\n",
    "    cnt=0\n",
    "    for i in a:\n",
    "        if i != ' ':\n",
    "            cnt+=1\n",
    "    return cnt\n",
    "print ('So ky tu trong chuoi la:',demkytu(N))\n",
    "        \n",
    "    "
   ]
  },
  {
   "cell_type": "code",
   "execution_count": null,
   "metadata": {},
   "outputs": [],
   "source": []
  }
 ],
 "metadata": {
  "kernelspec": {
   "display_name": "Python 3",
   "language": "python",
   "name": "python3"
  },
  "language_info": {
   "codemirror_mode": {
    "name": "ipython",
    "version": 3
   },
   "file_extension": ".py",
   "mimetype": "text/x-python",
   "name": "python",
   "nbconvert_exporter": "python",
   "pygments_lexer": "ipython3",
   "version": "3.7.1"
  }
 },
 "nbformat": 4,
 "nbformat_minor": 2
}
