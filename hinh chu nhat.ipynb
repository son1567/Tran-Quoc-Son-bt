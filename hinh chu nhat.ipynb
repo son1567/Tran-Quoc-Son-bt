{
 "cells": [
  {
   "cell_type": "code",
   "execution_count": 1,
   "metadata": {},
   "outputs": [
    {
     "name": "stdout",
     "output_type": "stream",
     "text": [
      "Nhap chieu dai150\n",
      "nhap chieu rong200\n"
     ]
    }
   ],
   "source": [
    "import turtle\n",
    "tl=turtle.Turtle()\n",
    "tl.speed\n",
    "cd=int(input(\"Nhap chieu dai\"))\n",
    "cr=int(input(\"nhap chieu rong\"))\n",
    "tl.forward(cr)\n",
    "tl.right(90)\n",
    "tl.forward(cd)\n",
    "tl.right(90)\n",
    "tl.forward(cr)\n",
    "tl.right(90)\n",
    "tl.forward(cd)\n",
    "tl.right(45)\n",
    "tl.forward(100)\n",
    "tl.right(85)\n",
    "tl.forward(110)\n",
    "tl.penup()\n",
    "tl.right(55)\n",
    "tl.forward(205)\n",
    "tl.right(55)\n",
    "turtle.done()"
   ]
  },
  {
   "cell_type": "code",
   "execution_count": null,
   "metadata": {},
   "outputs": [],
   "source": []
  }
 ],
 "metadata": {
  "kernelspec": {
   "display_name": "Python 3",
   "language": "python",
   "name": "python3"
  },
  "language_info": {
   "codemirror_mode": {
    "name": "ipython",
    "version": 3
   },
   "file_extension": ".py",
   "mimetype": "text/x-python",
   "name": "python",
   "nbconvert_exporter": "python",
   "pygments_lexer": "ipython3",
   "version": "3.7.1"
  }
 },
 "nbformat": 4,
 "nbformat_minor": 2
}
