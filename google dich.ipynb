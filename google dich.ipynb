{
 "cells": [
  {
   "cell_type": "code",
   "execution_count": 1,
   "metadata": {},
   "outputs": [
    {
     "name": "stderr",
     "output_type": "stream",
     "text": [
      "Exception in Tkinter callback\n",
      "Traceback (most recent call last):\n",
      "  File \"D:\\a\\lib\\tkinter\\__init__.py\", line 1705, in __call__\n",
      "    return self.func(*args)\n",
      "  File \"<ipython-input-1-20b31e8a2f4a>\", line 16, in trans\n",
      "    out_put=trans.translate(text=in_put,src='en',dest='vi')\n",
      "  File \"D:\\a\\lib\\site-packages\\googletrans\\client.py\", line 182, in translate\n",
      "    data = self._translate(text, dest, src, kwargs)\n",
      "  File \"D:\\a\\lib\\site-packages\\googletrans\\client.py\", line 78, in _translate\n",
      "    token = self.token_acquirer.do(text)\n",
      "  File \"D:\\a\\lib\\site-packages\\googletrans\\gtoken.py\", line 194, in do\n",
      "    self._update()\n",
      "  File \"D:\\a\\lib\\site-packages\\googletrans\\gtoken.py\", line 62, in _update\n",
      "    code = self.RE_TKK.search(r.text).group(1).replace('var ', '')\n",
      "AttributeError: 'NoneType' object has no attribute 'group'\n"
     ]
    }
   ],
   "source": [
    "from tkinter import *\n",
    "import googletrans\n",
    "from googletrans import Translator\n",
    "\n",
    "window=Tk()\n",
    "window.title(\"Google dich\")\n",
    "window.geometry(\"400x500\")\n",
    "window.resizable(0,0)\n",
    "\n",
    "def clear():\n",
    "    pass\n",
    "\n",
    "def trans():\n",
    "    in_put=text_in.get(1.0,'end')\n",
    "    trans=Translator()\n",
    "    out_put=trans.translate(text=in_put,src='en',dest='vi')\n",
    "    text_out.insert('end',out_put.text)\n",
    "lb=Label(window,text=\"Google translate\", font=(\"Helvetica\",20),fg=\"blue\")\n",
    "lb.place(x=90,y=20)\n",
    "\n",
    "lay_in=LabelFrame(window,text=\"input\")\n",
    "lay_in.place(x=40,y=70)\n",
    "\n",
    "text_in=Text(lay_in,width=35,height=6,font=(\"Helvetica\",12))\n",
    "text_in.pack()\n",
    "\n",
    "lay_out=LabelFrame(window,text=\"output\")\n",
    "lay_out.place(x=40,y=220)\n",
    "\n",
    "text_out=Text(lay_out,width=35,height=6,font=(\"Helvetica\",12))\n",
    "text_out.pack()\n",
    "\n",
    "frame_option=LabelFrame(window,text=\"option\")\n",
    "frame_option.place(x=40,y=370)\n",
    "\n",
    "opt=[\"English to Vietnamese\",\"Vietnamese to English\"]\n",
    "x=IntVar()\n",
    "x.set(\"0\")\n",
    "\n",
    "for index in range(len(opt)):\n",
    "    btn=Radiobutton(frame_option,text=opt[index],variable=x,value=index,font=(\"Helvetica\",12))\n",
    "    btn.pack(anchor= W)\n",
    "\n",
    "btn_trans=Button(window,text=\"translate\",width=15,command=trans)\n",
    "btn_trans.place(x=250,y=379)\n",
    "\n",
    "btn_cl=Button(window,text=\"clear\",width=15,command=clear)\n",
    "btn_cl.place(x=250,y=419)\n",
    "window.mainloop()\n"
   ]
  },
  {
   "cell_type": "code",
   "execution_count": null,
   "metadata": {},
   "outputs": [],
   "source": []
  },
  {
   "cell_type": "code",
   "execution_count": null,
   "metadata": {},
   "outputs": [],
   "source": []
  }
 ],
 "metadata": {
  "kernelspec": {
   "display_name": "Python 3",
   "language": "python",
   "name": "python3"
  },
  "language_info": {
   "codemirror_mode": {
    "name": "ipython",
    "version": 3
   },
   "file_extension": ".py",
   "mimetype": "text/x-python",
   "name": "python",
   "nbconvert_exporter": "python",
   "pygments_lexer": "ipython3",
   "version": "3.7.1"
  }
 },
 "nbformat": 4,
 "nbformat_minor": 2
}
