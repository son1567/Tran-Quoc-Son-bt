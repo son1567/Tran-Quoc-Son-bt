{
 "cells": [
  {
   "cell_type": "code",
   "execution_count": 2,
   "metadata": {},
   "outputs": [
    {
     "name": "stdout",
     "output_type": "stream",
     "text": [
      "Nhap bai cua ban:  Sex asdasdas.asdadas.asdasda.\n",
      "Bai viet cua ban bi block do chua tu ngu nhay cam\n"
     ]
    }
   ],
   "source": [
    "post = input('Nhap bai cua ban:  ')\n",
    "p=post.split('.')\n",
    "p1 = post[0]\n",
    "p2 = post[1]\n",
    "p3 = post[2]\n",
    "a = ('sex' in p1) or ('racist' in p1) or ('violence' in p1) or ('child abuse' in p1)\n",
    "b = ('sex' in p2) or ('racist' in p2) or ('violence' in p2) or ('child abuse' in p2)\n",
    "c = ('sex' in p3) or ('racist' in p3) or ('violence' in p3) or ('child abuse' in p3)\n",
    "kt = a or b or c\n",
    "print('Bai viet cua ban bi block do chua tu ngu nhay cam')\n",
    " "
   ]
  },
  {
   "cell_type": "code",
   "execution_count": null,
   "metadata": {},
   "outputs": [],
   "source": []
  }
 ],
 "metadata": {
  "kernelspec": {
   "display_name": "Python 3",
   "language": "python",
   "name": "python3"
  },
  "language_info": {
   "codemirror_mode": {
    "name": "ipython",
    "version": 3
   },
   "file_extension": ".py",
   "mimetype": "text/x-python",
   "name": "python",
   "nbconvert_exporter": "python",
   "pygments_lexer": "ipython3",
   "version": "3.7.1"
  }
 },
 "nbformat": 4,
 "nbformat_minor": 2
}
