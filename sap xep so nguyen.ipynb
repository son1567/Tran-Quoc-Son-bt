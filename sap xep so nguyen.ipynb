{
 "cells": [
  {
   "cell_type": "code",
   "execution_count": 1,
   "metadata": {},
   "outputs": [
    {
     "name": "stdout",
     "output_type": "stream",
     "text": [
      "Nhap s1=15\n",
      "Nhap s2=2\n",
      "Nhap s3=8\n",
      "original= 15 2 8\n",
      "sorted= 2 8 15\n"
     ]
    }
   ],
   "source": [
    "a=int(input('Nhap s1='))\n",
    "b=int(input('Nhap s2='))\n",
    "c=int(input('Nhap s3='))\n",
    "def sapxep(x,y,z):\n",
    "    t=0\n",
    "    if y<x and y<z:\n",
    "        t=x\n",
    "        x=y\n",
    "        y=t\n",
    "    elif z<x and z<y:\n",
    "        t=x\n",
    "        x=z\n",
    "        z=t\n",
    "    if z<y:\n",
    "        t=y\n",
    "        y=z\n",
    "        z=t\n",
    "    return (x,y,z)\n",
    "A,B,C=sapxep(a,b,c)\n",
    "print('original=',a,b,c)\n",
    "print('sorted=',A,B,C)"
   ]
  },
  {
   "cell_type": "code",
   "execution_count": null,
   "metadata": {},
   "outputs": [],
   "source": []
  }
 ],
 "metadata": {
  "kernelspec": {
   "display_name": "Python 3",
   "language": "python",
   "name": "python3"
  },
  "language_info": {
   "codemirror_mode": {
    "name": "ipython",
    "version": 3
   },
   "file_extension": ".py",
   "mimetype": "text/x-python",
   "name": "python",
   "nbconvert_exporter": "python",
   "pygments_lexer": "ipython3",
   "version": "3.7.1"
  }
 },
 "nbformat": 4,
 "nbformat_minor": 2
}
