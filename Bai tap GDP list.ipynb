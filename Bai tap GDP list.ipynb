{
 "cells": [
  {
   "cell_type": "markdown",
   "id": "57b9361d-5813-4d14-80a4-934903d88090",
   "metadata": {
    "tags": []
   },
   "source": [
    "# 1. Khai báo thư viện"
   ]
  },
  {
   "cell_type": "code",
   "execution_count": 17,
   "id": "9a779b9a-1799-4807-b7aa-94b9b036fd47",
   "metadata": {
    "tags": []
   },
   "outputs": [
    {
     "name": "stdout",
     "output_type": "stream",
     "text": [
      "Khai báo thư viện thành công\n"
     ]
    }
   ],
   "source": [
    "# Khái báo thư viện\n",
    "import numpy as np\n",
    "import pandas as pd\n",
    "import matplotlib.pyplot as plt\n",
    "print(\"Khai báo thư viện thành công\")"
   ]
  },
  {
   "cell_type": "markdown",
   "id": "a74820ba-bc05-4c97-989a-1029e31df606",
   "metadata": {
    "tags": []
   },
   "source": [
    "# 2. Tiền xử lý dữ liệu"
   ]
  },
  {
   "cell_type": "markdown",
   "id": "2cb3928f-cbf7-4184-982e-4bb4d865d0b8",
   "metadata": {
    "tags": []
   },
   "source": [
    "## 2.1. Nhập dữ liệu"
   ]
  },
  {
   "cell_type": "code",
   "execution_count": 18,
   "id": "abed0f00-9215-4a9b-a0cf-5a8c5369772f",
   "metadata": {
    "tags": []
   },
   "outputs": [
    {
     "name": "stdout",
     "output_type": "stream",
     "text": [
      "******************** Nhập dữ liệu thành công ********************\n",
      "          Country      Continent  GDP (millions of US$)\n",
      "0     Afghanistan           Asia                  18181\n",
      "1         Albania         Europe                  12847\n",
      "2         Algeria         Africa                 190709\n",
      "3          Angola         Africa                 100948\n",
      "4       Argentina  South America                 447644\n",
      "..            ...            ...                    ...\n",
      "120    Uzbekistan           Asia                  45353\n",
      "121     Venezuela  South America                 315841\n",
      "122       Vietnam           Asia                 122722\n",
      "123         Yemen         Africa                  33675\n",
      "124        Zambia         Africa                  19206\n",
      "\n",
      "[125 rows x 3 columns]\n"
     ]
    }
   ],
   "source": [
    "data = pd.read_csv('GDPlist.csv', header=0, encoding = \"ISO-8859-1\")\n",
    "print('*'*20, \"Nhập dữ liệu thành công\", '*'*20)\n",
    "print(data)"
   ]
  },
  {
   "cell_type": "markdown",
   "id": "f7da8f95-6d06-4100-8de6-2712e028b553",
   "metadata": {
    "tags": []
   },
   "source": [
    "## 2.2 Khảo sát dữ liệu"
   ]
  },
  {
   "cell_type": "code",
   "execution_count": 19,
   "id": "41adfee7-8c51-4b54-96f3-0afb5f8fb161",
   "metadata": {
    "tags": []
   },
   "outputs": [
    {
     "name": "stdout",
     "output_type": "stream",
     "text": [
      "<class 'pandas.core.frame.DataFrame'>\n",
      "RangeIndex: 125 entries, 0 to 124\n",
      "Data columns (total 3 columns):\n",
      " #   Column                 Non-Null Count  Dtype \n",
      "---  ------                 --------------  ----- \n",
      " 0   Country                125 non-null    object\n",
      " 1   Continent              125 non-null    object\n",
      " 2   GDP (millions of US$)  125 non-null    int64 \n",
      "dtypes: int64(1), object(2)\n",
      "memory usage: 3.1+ KB\n"
     ]
    }
   ],
   "source": [
    "data.info()"
   ]
  },
  {
   "cell_type": "markdown",
   "id": "6edb290b-6e03-4868-b85d-8eeb77d50ea7",
   "metadata": {
    "tags": []
   },
   "source": [
    "# 3. Phân tích dữ liệu (giải đáp bài toán)"
   ]
  },
  {
   "cell_type": "markdown",
   "id": "0489a3ad-ca3c-4829-a636-bd8afdcc08ac",
   "metadata": {
    "tags": []
   },
   "source": [
    "## 3.1. Bộ dữ liệu chứa bao nhiêu dòng, bao nhiêu cột"
   ]
  },
  {
   "cell_type": "code",
   "execution_count": 20,
   "id": "12c81ad9-0267-4809-ba8e-d865b6b114c5",
   "metadata": {
    "tags": []
   },
   "outputs": [
    {
     "name": "stdout",
     "output_type": "stream",
     "text": [
      "Thông tin về kích thước của DataFrame\n",
      "(125, 3)\n",
      "Số dòng là:  125  và số cột là:  3\n"
     ]
    }
   ],
   "source": [
    "print(\"Thông tin về kích thước của DataFrame\")\n",
    "print(data.shape)\n",
    "print(\"Số dòng là: \", data.shape[0], \" và số cột là: \", data.shape[1])"
   ]
  },
  {
   "cell_type": "markdown",
   "id": "5423fdff-3b36-44b1-8570-e03c9c17ec26",
   "metadata": {
    "tags": []
   },
   "source": [
    "## 3.2. Thang đo tương ứng của các thuộc tính được lưu trữ"
   ]
  },
  {
   "cell_type": "code",
   "execution_count": 21,
   "id": "dff82104-ce6a-4a54-a9b6-bc8fa94af66d",
   "metadata": {
    "tags": []
   },
   "outputs": [
    {
     "name": "stdout",
     "output_type": "stream",
     "text": [
      "          Country      Continent  GDP (millions of US$)\n",
      "0     Afghanistan           Asia                  18181\n",
      "1         Albania         Europe                  12847\n",
      "2         Algeria         Africa                 190709\n",
      "3          Angola         Africa                 100948\n",
      "4       Argentina  South America                 447644\n",
      "..            ...            ...                    ...\n",
      "120    Uzbekistan           Asia                  45353\n",
      "121     Venezuela  South America                 315841\n",
      "122       Vietnam           Asia                 122722\n",
      "123         Yemen         Africa                  33675\n",
      "124        Zambia         Africa                  19206\n",
      "\n",
      "[125 rows x 3 columns] \n",
      "\n",
      "<class 'pandas.core.frame.DataFrame'>\n",
      "RangeIndex: 125 entries, 0 to 124\n",
      "Data columns (total 3 columns):\n",
      " #   Column                 Non-Null Count  Dtype \n",
      "---  ------                 --------------  ----- \n",
      " 0   Country                125 non-null    object\n",
      " 1   Continent              125 non-null    object\n",
      " 2   GDP (millions of US$)  125 non-null    int64 \n",
      "dtypes: int64(1), object(2)\n",
      "memory usage: 3.1+ KB\n"
     ]
    }
   ],
   "source": [
    "# Nhìn lại dữ liệu một lần nữa\n",
    "print(data, \"\\n\")\n",
    "data.info()"
   ]
  },
  {
   "cell_type": "code",
   "execution_count": 22,
   "id": "179c209d-d9db-4240-9936-fe778099df87",
   "metadata": {
    "tags": []
   },
   "outputs": [
    {
     "name": "stdout",
     "output_type": "stream",
     "text": [
      "******************** Nhận xét ********************\n",
      "Thuộc tính của  Country  là định danh nominal\n",
      "Thuộc tính của  Continent  là định danh nominal\n",
      "Thuộc tính của  GDP (millions of US$)  là định lượng ratio\n"
     ]
    }
   ],
   "source": [
    "print('*'*20, 'Nhận xét', '*'*20);\n",
    "print('Thuộc tính của ', data.columns[0], ' là định danh nominal');\n",
    "print('Thuộc tính của ', data.columns[1], ' là định danh nominal');\n",
    "print('Thuộc tính của ', data.columns[2], ' là định lượng ratio');"
   ]
  },
  {
   "cell_type": "markdown",
   "id": "fafe6fc8-5b7f-4347-8258-ec0f74816cd3",
   "metadata": {
    "tags": []
   },
   "source": [
    "## 3.2. GDP của các quốc gia có đồng đều không"
   ]
  },
  {
   "cell_type": "code",
   "execution_count": 23,
   "id": "2d9d1d17-7619-4652-84bd-544ca9831425",
   "metadata": {
    "tags": []
   },
   "outputs": [
    {
     "data": {
      "image/png": "[encoded data removed]",
      "text/plain": [
       "<Figure size 432x288 with 1 Axes>"
      ]
     },
     "metadata": {
      "needs_background": "light"
     },
     "output_type": "display_data"
    }
   ],
   "source": [
    "# Vẽ biểu đồ Histogram thể hiện GDP vs các nước\n",
    "data.hist(column='GDP (millions of US$)', bins=60)\n",
    "plt.show()"
   ]
  },
  {
   "cell_type": "code",
   "execution_count": 24,
   "id": "c95375cd-d49a-4e7c-a4f2-4c614f15ff98",
   "metadata": {
    "tags": []
   },
   "outputs": [
    {
     "data": {
      "image/png": "[encoded data removed]",
      "text/plain": [
       "<Figure size 432x288 with 1 Axes>"
      ]
     },
     "metadata": {
      "needs_background": "light"
     },
     "output_type": "display_data"
    }
   ],
   "source": [
    "# Cách 2: dùng matplotlib\n",
    "plt.hist(data['GDP (millions of US$)'], bins=60)\n",
    "plt.grid(True)\n",
    "plt.title('GDP (millions of US$)')\n",
    "plt.show()"
   ]
  },
  {
   "cell_type": "code",
   "execution_count": 25,
   "id": "624f37e7-d3f7-4904-b101-234f5b92a1c0",
   "metadata": {
    "tags": []
   },
   "outputs": [
    {
     "name": "stdout",
     "output_type": "stream",
     "text": [
      "GDP không đồng đều. Đa số các nước đều có GDP thấp, mốt số nước thì có GDP cao bật hẳn lên\n"
     ]
    }
   ],
   "source": [
    "# KẾT LUẬN\n",
    "print('GDP không đồng đều. Đa số các nước đều có GDP thấp, mốt số nước thì có GDP cao bật hẳn lên')"
   ]
  },
  {
   "cell_type": "markdown",
   "id": "7a86d7d1-5ad4-4411-8e1e-1767fd9c8630",
   "metadata": {
    "tags": []
   },
   "source": [
    "## 3.3. Mỗi châu lục có bao nhiêu quốc gia nằm trong bảng dữ liệu"
   ]
  },
  {
   "cell_type": "code",
   "execution_count": 26,
   "id": "9219a397-902e-4432-a5e9-dc48f76afe18",
   "metadata": {
    "tags": []
   },
   "outputs": [
    {
     "name": "stdout",
     "output_type": "stream",
     "text": [
      "Trong thống kê có các châu lục là:  Asia, Europe, Africa, South America, Oceania, North America\n",
      "Số lượng châu lục là:  6\n"
     ]
    }
   ],
   "source": [
    "print('Trong thống kê có các châu lục là: ', end=' ')\n",
    "print(*data['Continent'].unique(), sep = \", \")\n",
    "print('Số lượng châu lục là: ', data['Continent'].unique().size)"
   ]
  },
  {
   "cell_type": "code",
   "execution_count": 27,
   "id": "ea922277-c887-44eb-ab2e-7dee8f21e172",
   "metadata": {
    "tags": []
   },
   "outputs": [
    {
     "name": "stdout",
     "output_type": "stream",
     "text": [
      "Continent\n",
      "Africa           29\n",
      "Asia             36\n",
      "Europe           37\n",
      "North America    11\n",
      "Oceania           3\n",
      "South America     9\n",
      "Name: Country, dtype: int64\n"
     ]
    }
   ],
   "source": [
    "soluong = data.groupby('Continent')['Country'].count() #.size()\n",
    "print(soluong)"
   ]
  },
  {
   "cell_type": "code",
   "execution_count": 28,
   "id": "db97d814-94c5-4125-8a2f-41f44c64e3ae",
   "metadata": {
    "tags": []
   },
   "outputs": [
    {
     "name": "stdout",
     "output_type": "stream",
     "text": [
      "Số lượng các quốc gia trong:  Asia, Europe, Africa, South America, Oceania, North America lần lượt là:  29, 36, 37, 11, 3, 9."
     ]
    }
   ],
   "source": [
    "print('Số lượng các quốc gia trong: ', end = ' ')\n",
    "print(*data['Continent'].unique(), sep = \", \", end = ' ')\n",
    "print('lần lượt là: ', end=' ')\n",
    "print(*soluong, sep = \", \", end = '.')"
   ]
  },
  {
   "cell_type": "markdown",
   "id": "d1651d54-6453-4e3d-b900-5fd4e6be5bc3",
   "metadata": {
    "tags": []
   },
   "source": [
    "## 3.4. Tổng GPD của các châu lục"
   ]
  },
  {
   "cell_type": "code",
   "execution_count": 29,
   "id": "ac80e2e2-752f-4063-9bba-8885fb3362dc",
   "metadata": {
    "tags": []
   },
   "outputs": [
    {
     "name": "stdout",
     "output_type": "stream",
     "text": [
      "Continent\n",
      "Africa            1820811\n",
      "Asia             24425891\n",
      "Europe           19139380\n",
      "North America    18238447\n",
      "Oceania           1662727\n",
      "South America     4141217\n",
      "Name: GDP (millions of US$), dtype: int64\n"
     ]
    }
   ],
   "source": [
    "gdp = data.groupby('Continent')['GDP (millions of US$)'].sum()\n",
    "print(gdp)"
   ]
  },
  {
   "cell_type": "code",
   "execution_count": 30,
   "id": "6fc32a5e-8f2b-4d4d-86ae-c6e98571941e",
   "metadata": {
    "tags": []
   },
   "outputs": [
    {
     "name": "stdout",
     "output_type": "stream",
     "text": [
      "Tổng GDP của các châu lục:  Asia, Europe, Africa, South America, Oceania, North America lần lượt là:  1820811, 24425891, 19139380, 18238447, 1662727, 4141217 millions of US$."
     ]
    }
   ],
   "source": [
    "print('Tổng GDP của các châu lục: ', end = ' ')\n",
    "print(*data['Continent'].unique(), sep = \", \", end = ' ')\n",
    "print('lần lượt là: ', end=' ')\n",
    "print(*gdp, sep = \", \", end = ' millions of US$.')"
   ]
  },
  {
   "cell_type": "markdown",
   "id": "1f64cdf5-b81a-4636-923b-8ed59bc8929e",
   "metadata": {
    "tags": []
   },
   "source": [
    "## 3.5. Top 10 quốc gia có GDP cao nhất"
   ]
  },
  {
   "cell_type": "code",
   "execution_count": 31,
   "id": "8cf2cb3d-f745-46a8-9568-64f5a4cc616c",
   "metadata": {
    "tags": []
   },
   "outputs": [
    {
     "data": {
      "text/plain": [
       "Country\n",
       " United States     15094025\n",
       " China              7298147\n",
       " Japan              5869471\n",
       " Germany            3577031\n",
       " France             2776324\n",
       " Brazil             2492908\n",
       " United Kingdom     2417570\n",
       " Italy              2198730\n",
       " Russia             1850401\n",
       " Canada             1736869\n",
       "Name: GDP (millions of US$), dtype: int64"
      ]
     },
     "execution_count": 31,
     "metadata": {},
     "output_type": "execute_result"
    }
   ],
   "source": [
    "top = data.groupby('Country')['GDP (millions of US$)'].sum().sort_values(ascending= False)\n",
    "top10 = top.head(10)\n",
    "top10"
   ]
  },
  {
   "cell_type": "code",
   "execution_count": 32,
   "id": "9be25832-5b8e-48c1-961f-511d64feeeec",
   "metadata": {
    "tags": []
   },
   "outputs": [
    {
     "name": "stdout",
     "output_type": "stream",
     "text": [
      "Top 10 quốc gia có GDP cao nhất là:   United States,  China,  Japan,  Germany,  France,  Brazil,  United Kingdom,  Italy,  Russia,  Canada với giá trị lần lượt là:  15094025, 7298147, 5869471, 3577031, 2776324, 2492908, 2417570, 2198730, 1850401, 1736869 millions of US$."
     ]
    }
   ],
   "source": [
    "print('Top 10 quốc gia có GDP cao nhất là: ', end = ' ')\n",
    "print(*top10.index, sep = \", \", end = ' ')\n",
    "print('với giá trị lần lượt là: ', end=' ')\n",
    "print(*top10, sep = \", \", end = ' millions of US$.')"
   ]
  }
 ],
 "metadata": {
  "kernelspec": {
   "display_name": "Python 3 (ipykernel)",
   "language": "python",
   "name": "python3"
  },
  "language_info": {
   "codemirror_mode": {
    "name": "ipython",
    "version": 3
   },
   "file_extension": ".py",
   "mimetype": "text/x-python",
   "name": "python",
   "nbconvert_exporter": "python",
   "pygments_lexer": "ipython3",
   "version": "3.9.12"
  }
 },
 "nbformat": 4,
 "nbformat_minor": 5
}
