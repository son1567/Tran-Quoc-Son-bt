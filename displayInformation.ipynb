{
 "cells": [
  {
   "cell_type": "code",
   "execution_count": 1,
   "metadata": {},
   "outputs": [
    {
     "name": "stdout",
     "output_type": "stream",
     "text": [
      "Ho va ten: Tran Quoc Son\n",
      "Ngay sinh:24/03/2003\n",
      "Dia chi:105/7 duong TL37 P.Thanh Loc quan 12 Tp.HCM\n",
      "Muc dich den voi khoa hoc: Muon biet chuyen sau ve Python va chuyen nganh du lieu\n"
     ]
    }
   ],
   "source": [
    "print('Ho va ten: Tran Quoc Son')\n",
    "print('Ngay sinh:24/03/2003')\n",
    "print('Dia chi:105/7 duong TL37 P.Thanh Loc quan 12 Tp.HCM')\n",
    "print('Muc dich den voi khoa hoc: Muon biet chuyen sau ve Python va chuyen nganh du lieu')"
   ]
  },
  {
   "cell_type": "code",
   "execution_count": null,
   "metadata": {},
   "outputs": [],
   "source": []
  }
 ],
 "metadata": {
  "kernelspec": {
   "display_name": "Python 3",
   "language": "python",
   "name": "python3"
  },
  "language_info": {
   "codemirror_mode": {
    "name": "ipython",
    "version": 3
   },
   "file_extension": ".py",
   "mimetype": "text/x-python",
   "name": "python",
   "nbconvert_exporter": "python",
   "pygments_lexer": "ipython3",
   "version": "3.7.1"
  }
 },
 "nbformat": 4,
 "nbformat_minor": 2
}
