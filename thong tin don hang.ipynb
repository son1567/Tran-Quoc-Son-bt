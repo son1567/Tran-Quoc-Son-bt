{
 "cells": [
  {
   "cell_type": "code",
   "execution_count": 2,
   "metadata": {},
   "outputs": [
    {
     "name": "stdout",
     "output_type": "stream",
     "text": [
      "Nhap don gia: 50\n",
      "Total:  25\n"
     ]
    }
   ],
   "source": [
    "n = int(input(\"Nhap don gia: \"))\n",
    "if n >= 150:\n",
    "    print(\"Total: \", n - 50)\n",
    "elif num >= 100:\n",
    "    print(\"Total: \", n - 25)\n",
    "elif num >= 75:\n",
    "    print(\"Total: \", n - 15)\n",
    "else:\n",
    "    print(\"Total: \", n)\n"
   ]
  },
  {
   "cell_type": "code",
   "execution_count": null,
   "metadata": {},
   "outputs": [],
   "source": []
  }
 ],
 "metadata": {
  "kernelspec": {
   "display_name": "Python 3",
   "language": "python",
   "name": "python3"
  },
  "language_info": {
   "codemirror_mode": {
    "name": "ipython",
    "version": 3
   },
   "file_extension": ".py",
   "mimetype": "text/x-python",
   "name": "python",
   "nbconvert_exporter": "python",
   "pygments_lexer": "ipython3",
   "version": "3.7.1"
  }
 },
 "nbformat": 4,
 "nbformat_minor": 2
}
