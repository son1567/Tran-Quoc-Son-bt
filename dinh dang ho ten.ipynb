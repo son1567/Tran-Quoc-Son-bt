{
 "cells": [
  {
   "cell_type": "code",
   "execution_count": 1,
   "metadata": {},
   "outputs": [
    {
     "name": "stdout",
     "output_type": "stream",
     "text": [
      "T ran Q uoc S on\n"
     ]
    }
   ],
   "source": [
    "name='   traN qUoC soN'\n",
    "name=name.strip()\n",
    "a=name.split(' ')\n",
    "f=a[0].lower()\n",
    "s=a[1].lower()\n",
    "n=a[2].lower()\n",
    "\n",
    "f=\"{first_char} {remain}\".format(first_char=f[0].upper(), remain=f[1:])\n",
    "s=\"{first_char} {remain}\".format(first_char=s[0].upper(), remain=s[1:])\n",
    "n=\"{first_char} {remain}\".format(first_char=n[0].upper(), remain=n[1:])\n",
    "full=\"{f} {s} {n}\".format(f=f,s=s,n=n)\n",
    "print(full)\n"
   ]
  },
  {
   "cell_type": "code",
   "execution_count": null,
   "metadata": {},
   "outputs": [],
   "source": []
  },
  {
   "cell_type": "code",
   "execution_count": null,
   "metadata": {},
   "outputs": [],
   "source": []
  }
 ],
 "metadata": {
  "kernelspec": {
   "display_name": "Python 3",
   "language": "python",
   "name": "python3"
  },
  "language_info": {
   "codemirror_mode": {
    "name": "ipython",
    "version": 3
   },
   "file_extension": ".py",
   "mimetype": "text/x-python",
   "name": "python",
   "nbconvert_exporter": "python",
   "pygments_lexer": "ipython3",
   "version": "3.7.1"
  }
 },
 "nbformat": 4,
 "nbformat_minor": 2
}
