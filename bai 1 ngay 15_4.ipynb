{
 "cells": [
  {
   "cell_type": "code",
   "execution_count": null,
   "metadata": {},
   "outputs": [],
   "source": [
    "N = int(input(\"Nhập N=\"))\n",
    "\n",
    "for i in range(N):\n",
    "    if i <= N/2:\n",
    "        print(\" \"*int((N-2*i)/2),\"*\"*(2*i+1))\n",
    "    else:\n",
    "        print(\" \"*int((2*i-N+1)/2),\"*\"*(2*N-2*i-1))"
   ]
  }
 ],
 "metadata": {
  "kernelspec": {
   "display_name": "Python 3",
   "language": "python",
   "name": "python3"
  },
  "language_info": {
   "codemirror_mode": {
    "name": "ipython",
    "version": 3
   },
   "file_extension": ".py",
   "mimetype": "text/x-python",
   "name": "python",
   "nbconvert_exporter": "python",
   "pygments_lexer": "ipython3",
   "version": "3.7.1"
  }
 },
 "nbformat": 4,
 "nbformat_minor": 2
}
